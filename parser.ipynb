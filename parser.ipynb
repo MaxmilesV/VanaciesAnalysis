{
 "cells": [
  {
   "cell_type": "code",
   "execution_count": 2,
   "metadata": {
    "collapsed": true,
    "ExecuteTime": {
     "end_time": "2023-05-30T11:04:19.964918300Z",
     "start_time": "2023-05-30T11:04:19.880507Z"
    }
   },
   "outputs": [],
   "source": [
    "import requests\n",
    "import pandas as pd"
   ]
  },
  {
   "cell_type": "markdown",
   "source": [
    "Парсинг выполнялся последний раз 15.05.2023\n",
    "Не рекомендуется повторять без необходимости (занимает около 7 минут на AMD Ryzen 5 5600 и с интернетом 20Мб/с)\n",
    "\n",
    "Взяты за период 30 дней (period = 30)\n",
    "В качестве региона указана Москва (area = 1)\n",
    "Указан фильтр работодателей по финансовому сектору  (industry = 43)\n",
    "Указан фильтр на вакансии с зарплатой (only_with_salary = True)\n",
    "\n",
    "Важно отметить, что среди вакансий от подобных работодателей, помимо сотрудников с финансовым образованием и сферой работы, есть как горничные и VIP повара, так и уборщики. Избавиться от подобных кейсов в выборке трудно, потому их так же будем собирать."
   ],
   "metadata": {
    "collapsed": false
   }
  },
  {
   "cell_type": "code",
   "execution_count": 12,
   "outputs": [],
   "source": [
    "number_of_pages = 100\n",
    "\n",
    "df = pd.DataFrame()\n",
    "\n",
    "data=[]\n",
    "for page in range(number_of_pages):\n",
    "    url = 'https://api.hh.ru/vacancies'\n",
    "    par = {'area': '1', 'period': 30, 'only_with_salary': True, 'industry': 43, 'page': page}\n",
    "    r = requests.get(url, params=par)\n",
    "    e=r.json()\n",
    "    data.append(e)\n",
    "    vacancy_details = data[0]['items'][0].keys()\n",
    "    df = pd.DataFrame(columns= list(vacancy_details))\n",
    "    ind = 0\n",
    "    for i in range(len(data)):\n",
    "        for j in range(len(data[i]['items'])):\n",
    "            df.loc[ind] = data[i]['items'][j]\n",
    "            ind+=1\n",
    "\n",
    "csv_name = \"fin-sec.csv\"\n",
    "df.to_csv(csv_name)"
   ],
   "metadata": {
    "collapsed": false,
    "ExecuteTime": {
     "end_time": "2023-05-15T15:44:56.691745900Z",
     "start_time": "2023-05-15T15:37:46.630146200Z"
    }
   }
  }
 ],
 "metadata": {
  "kernelspec": {
   "display_name": "Python 3",
   "language": "python",
   "name": "python3"
  },
  "language_info": {
   "codemirror_mode": {
    "name": "ipython",
    "version": 2
   },
   "file_extension": ".py",
   "mimetype": "text/x-python",
   "name": "python",
   "nbconvert_exporter": "python",
   "pygments_lexer": "ipython2",
   "version": "2.7.6"
  }
 },
 "nbformat": 4,
 "nbformat_minor": 0
}
